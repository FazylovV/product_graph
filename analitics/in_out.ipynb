{
 "cells": [
  {
   "cell_type": "code",
   "execution_count": 2,
   "id": "00e335a6",
   "metadata": {},
   "outputs": [],
   "source": [
    "import pandas as pd"
   ]
  },
  {
   "cell_type": "code",
   "execution_count": 3,
   "id": "58fed5da",
   "metadata": {},
   "outputs": [],
   "source": [
    "pairs = pd.read_csv('data/pairs_of_products.csv')\n",
    "products = pd.read_csv('products.csv')"
   ]
  },
  {
   "cell_type": "code",
   "execution_count": 14,
   "id": "80467f7a",
   "metadata": {},
   "outputs": [],
   "source": [
    "products['out'] = products['id'].apply(lambda x: len(pairs[pairs['product1'] == x]))"
   ]
  },
  {
   "cell_type": "code",
   "execution_count": 4,
   "id": "2ada645c",
   "metadata": {},
   "outputs": [
    {
     "data": {
      "text/plain": [
       "out\n",
       "5    233871\n",
       "4      7685\n",
       "3      6557\n",
       "2      5654\n",
       "0      4541\n",
       "1      3803\n",
       "Name: count, dtype: int64"
      ]
     },
     "execution_count": 4,
     "metadata": {},
     "output_type": "execute_result"
    }
   ],
   "source": [
    "products['out'].value_counts()"
   ]
  },
  {
   "cell_type": "code",
   "execution_count": 12,
   "id": "2695fa81",
   "metadata": {},
   "outputs": [],
   "source": [
    "products['in'] = products['id'].apply(lambda x: len(pairs[pairs['product2'] == x]))"
   ]
  },
  {
   "cell_type": "code",
   "execution_count": 5,
   "id": "7de6ae2f",
   "metadata": {},
   "outputs": [
    {
     "data": {
      "text/plain": [
       "in\n",
       "1      47950\n",
       "2      46568\n",
       "3      38924\n",
       "4      31555\n",
       "5      24944\n",
       "       ...  \n",
       "88         1\n",
       "166        1\n",
       "116        1\n",
       "137        1\n",
       "171        1\n",
       "Name: count, Length: 157, dtype: int64"
      ]
     },
     "execution_count": 5,
     "metadata": {},
     "output_type": "execute_result"
    }
   ],
   "source": [
    "products['in'].value_counts()"
   ]
  },
  {
   "cell_type": "code",
   "execution_count": 17,
   "id": "903e6d15",
   "metadata": {},
   "outputs": [
    {
     "name": "stdout",
     "output_type": "stream",
     "text": [
      "<class 'pandas.core.frame.DataFrame'>\n",
      "RangeIndex: 262111 entries, 0 to 262110\n",
      "Data columns (total 16 columns):\n",
      " #   Column              Non-Null Count   Dtype  \n",
      "---  ------              --------------   -----  \n",
      " 0   id                  262111 non-null  int64  \n",
      " 1   in_degree           262111 non-null  float64\n",
      " 2   out_degree          262111 non-null  float64\n",
      " 3   page_rank           262111 non-null  float64\n",
      " 4   asin                262111 non-null  object \n",
      " 5   discontinued        262111 non-null  bool   \n",
      " 6   group_name          259168 non-null  object \n",
      " 7   title               259168 non-null  object \n",
      " 8   categories          259168 non-null  object \n",
      " 9   salesrank           259168 non-null  float64\n",
      " 10  similars_count      259168 non-null  float64\n",
      " 11  avg_rating          259168 non-null  float64\n",
      " 12  total_reviews       259168 non-null  float64\n",
      " 13  downloaded_reviews  259168 non-null  float64\n",
      " 14  in                  262111 non-null  int64  \n",
      " 15  out                 262111 non-null  int64  \n",
      "dtypes: bool(1), float64(8), int64(3), object(4)\n",
      "memory usage: 30.2+ MB\n"
     ]
    }
   ],
   "source": [
    "products.info()"
   ]
  },
  {
   "cell_type": "code",
   "execution_count": 25,
   "id": "d29d9a7c",
   "metadata": {},
   "outputs": [
    {
     "data": {
      "text/html": [
       "<div>\n",
       "<style scoped>\n",
       "    .dataframe tbody tr th:only-of-type {\n",
       "        vertical-align: middle;\n",
       "    }\n",
       "\n",
       "    .dataframe tbody tr th {\n",
       "        vertical-align: top;\n",
       "    }\n",
       "\n",
       "    .dataframe thead th {\n",
       "        text-align: right;\n",
       "    }\n",
       "</style>\n",
       "<table border=\"1\" class=\"dataframe\">\n",
       "  <thead>\n",
       "    <tr style=\"text-align: right;\">\n",
       "      <th></th>\n",
       "      <th>id</th>\n",
       "      <th>in</th>\n",
       "      <th>title</th>\n",
       "      <th>group_name</th>\n",
       "    </tr>\n",
       "  </thead>\n",
       "  <tbody>\n",
       "    <tr>\n",
       "      <th>203</th>\n",
       "      <td>297</td>\n",
       "      <td>280</td>\n",
       "      <td>The Rurouni Kenshin NB: 6</td>\n",
       "      <td>Book</td>\n",
       "    </tr>\n",
       "    <tr>\n",
       "      <th>16323</th>\n",
       "      <td>16340</td>\n",
       "      <td>167</td>\n",
       "      <td>Histeriha</td>\n",
       "      <td>Music</td>\n",
       "    </tr>\n",
       "    <tr>\n",
       "      <th>5034</th>\n",
       "      <td>4820</td>\n",
       "      <td>102</td>\n",
       "      <td>The Land I'm Bound To: Photographs</td>\n",
       "      <td>Book</td>\n",
       "    </tr>\n",
       "    <tr>\n",
       "      <th>434</th>\n",
       "      <td>241</td>\n",
       "      <td>100</td>\n",
       "      <td>Unsettling America : An Anthology of Contempor...</td>\n",
       "      <td>Book</td>\n",
       "    </tr>\n",
       "    <tr>\n",
       "      <th>23745</th>\n",
       "      <td>20898</td>\n",
       "      <td>93</td>\n",
       "      <td>Scottie-Robbie : The Story of a True Champion</td>\n",
       "      <td>Book</td>\n",
       "    </tr>\n",
       "    <tr>\n",
       "      <th>2728</th>\n",
       "      <td>1983</td>\n",
       "      <td>73</td>\n",
       "      <td>The Book of the Pomegranate: Moses de Leon's S...</td>\n",
       "      <td>Book</td>\n",
       "    </tr>\n",
       "    <tr>\n",
       "      <th>61711</th>\n",
       "      <td>55611</td>\n",
       "      <td>71</td>\n",
       "      <td>Dog for a Day</td>\n",
       "      <td>Book</td>\n",
       "    </tr>\n",
       "    <tr>\n",
       "      <th>29578</th>\n",
       "      <td>21483</td>\n",
       "      <td>65</td>\n",
       "      <td>Jade (Wildflowers)</td>\n",
       "      <td>Book</td>\n",
       "    </tr>\n",
       "    <tr>\n",
       "      <th>103</th>\n",
       "      <td>94</td>\n",
       "      <td>65</td>\n",
       "      <td>The American Heritage Dictionary of Idioms</td>\n",
       "      <td>Book</td>\n",
       "    </tr>\n",
       "    <tr>\n",
       "      <th>69349</th>\n",
       "      <td>67787</td>\n",
       "      <td>59</td>\n",
       "      <td>Sight Word Books: Reproducible Readers to Shar...</td>\n",
       "      <td>Book</td>\n",
       "    </tr>\n",
       "  </tbody>\n",
       "</table>\n",
       "</div>"
      ],
      "text/plain": [
       "          id   in                                              title  \\\n",
       "203      297  280                          The Rurouni Kenshin NB: 6   \n",
       "16323  16340  167                                          Histeriha   \n",
       "5034    4820  102                 The Land I'm Bound To: Photographs   \n",
       "434      241  100  Unsettling America : An Anthology of Contempor...   \n",
       "23745  20898   93      Scottie-Robbie : The Story of a True Champion   \n",
       "2728    1983   73  The Book of the Pomegranate: Moses de Leon's S...   \n",
       "61711  55611   71                                      Dog for a Day   \n",
       "29578  21483   65                                 Jade (Wildflowers)   \n",
       "103       94   65         The American Heritage Dictionary of Idioms   \n",
       "69349  67787   59  Sight Word Books: Reproducible Readers to Shar...   \n",
       "\n",
       "      group_name  \n",
       "203         Book  \n",
       "16323      Music  \n",
       "5034        Book  \n",
       "434         Book  \n",
       "23745       Book  \n",
       "2728        Book  \n",
       "61711       Book  \n",
       "29578       Book  \n",
       "103         Book  \n",
       "69349       Book  "
      ]
     },
     "execution_count": 25,
     "metadata": {},
     "output_type": "execute_result"
    }
   ],
   "source": [
    "products[products['out'] == 0].sort_values(by='in', ascending=False)[['id', 'in', 'title', 'group_name']].head(10)"
   ]
  },
  {
   "cell_type": "code",
   "execution_count": 6,
   "id": "0f4555b3",
   "metadata": {},
   "outputs": [],
   "source": [
    "import matplotlib.pyplot as plt"
   ]
  },
  {
   "cell_type": "code",
   "execution_count": 10,
   "id": "6239f244",
   "metadata": {},
   "outputs": [
    {
     "data": {
      "text/plain": [
       "<Axes: ylabel='Frequency'>"
      ]
     },
     "execution_count": 10,
     "metadata": {},
     "output_type": "execute_result"
    },
    {
     "data": {
      "image/png": "[encoded data removed]",
      "text/plain": [
       "<Figure size 640x480 with 1 Axes>"
      ]
     },
     "metadata": {},
     "output_type": "display_data"
    }
   ],
   "source": [
    "products['out'].value_counts().plot(kind='hist', bins=100)"
   ]
  }
 ],
 "metadata": {
  "kernelspec": {
   "display_name": "Python 3",
   "language": "python",
   "name": "python3"
  },
  "language_info": {
   "codemirror_mode": {
    "name": "ipython",
    "version": 3
   },
   "file_extension": ".py",
   "mimetype": "text/x-python",
   "name": "python",
   "nbconvert_exporter": "python",
   "pygments_lexer": "ipython3",
   "version": "3.11.0"
  }
 },
 "nbformat": 4,
 "nbformat_minor": 5
}
